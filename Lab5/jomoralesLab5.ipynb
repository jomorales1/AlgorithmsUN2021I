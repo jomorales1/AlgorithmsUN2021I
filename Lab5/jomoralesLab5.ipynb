{
  "nbformat": 4,
  "nbformat_minor": 0,
  "metadata": {
    "colab": {
      "name": "jomoralesLab5.ipynb",
      "provenance": []
    },
    "kernelspec": {
      "name": "python3",
      "display_name": "Python 3"
    },
    "language_info": {
      "name": "python"
    }
  },
  "cells": [
    {
      "cell_type": "markdown",
      "metadata": {
        "id": "Ied3zzQb-Rvr"
      },
      "source": [
        "[La aplicación está alojada aquí](http://joemendezunal.pythonanywhere.com/)"
      ]
    }
  ]
}