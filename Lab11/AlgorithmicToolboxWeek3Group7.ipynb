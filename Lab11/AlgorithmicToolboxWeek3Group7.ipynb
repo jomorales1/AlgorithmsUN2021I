{
  "nbformat": 4,
  "nbformat_minor": 0,
  "metadata": {
    "colab": {
      "name": "AlgorithmicToolboxWeek3Group7.ipynb",
      "provenance": [],
      "collapsed_sections": []
    },
    "kernelspec": {
      "name": "python3",
      "display_name": "Python 3"
    },
    "language_info": {
      "name": "python"
    }
  },
  "cells": [
    {
      "cell_type": "markdown",
      "metadata": {
        "id": "Bch2Od4Hu93M"
      },
      "source": [
        "# Algorithmic Toolbox - Week 3 - Greedy Algorithms"
      ]
    },
    {
      "cell_type": "markdown",
      "metadata": {
        "id": "AonOe4rQvJTr"
      },
      "source": [
        "## 1. Money Change"
      ]
    },
    {
      "cell_type": "code",
      "metadata": {
        "colab": {
          "base_uri": "https://localhost:8080/"
        },
        "id": "vEdIBWT3t3KC",
        "outputId": "82906c6b-2039-4ce0-c759-3c4c7f46684a"
      },
      "source": [
        "%%writefile first.cpp\n",
        "#include <bits/stdc++.h>\n",
        "\n",
        "using namespace std;\n",
        "\n",
        "int get_change(int m) {\n",
        "  //write your code here\n",
        "  int n = 0;\n",
        "  while (m > 0) {\n",
        "    while (m >= 10) {\n",
        "      m -= 10;\n",
        "      n++;\n",
        "      // cout << 10 << \" \";\n",
        "    }\n",
        "    while (m >= 5) {\n",
        "      m -= 5;\n",
        "      n++;\n",
        "      // cout << 5 << \" \";\n",
        "    }\n",
        "    while (m >= 1) {\n",
        "      m -= 1;\n",
        "      n++;\n",
        "      // cout << 1 << \" \";\n",
        "    }\n",
        "  }\n",
        "  // cout << \"\\n\";\n",
        "  return n;\n",
        "}\n",
        "\n",
        "int main() {\n",
        "  int m;\n",
        "  cin >> m;\n",
        "  cout << get_change(m) << '\\n';\n",
        "  return 0;\n",
        "}"
      ],
      "execution_count": 1,
      "outputs": [
        {
          "output_type": "stream",
          "text": [
            "Writing first.cpp\n"
          ],
          "name": "stdout"
        }
      ]
    },
    {
      "cell_type": "markdown",
      "metadata": {
        "id": "H_M4RnJyvrZr"
      },
      "source": [
        "## 2. Maximum Value of the Loot"
      ]
    },
    {
      "cell_type": "code",
      "metadata": {
        "colab": {
          "base_uri": "https://localhost:8080/"
        },
        "id": "BXseXh4Uvw-s",
        "outputId": "2adf7940-9073-48da-e6e9-7808f7deadf2"
      },
      "source": [
        "%%writefile second.cpp\n",
        "#include <bits/stdc++.h>\n",
        "\n",
        "using namespace std;\n",
        "\n",
        "bool comp_items(pair<int, double> a, pair<int, double> b) {\n",
        "  return a.second > b.second ? true : false;\n",
        "}\n",
        "\n",
        "double get_optimal_value(int capacity, vector<int> weights, vector<int> values) {\n",
        "  double value = 0.0;\n",
        "  int n = weights.size();\n",
        "  vector<pair<int, double>> unit_cost(n);\n",
        "  for (int i = 0; i < n; i++) {\n",
        "    unit_cost[i] = make_pair(i, (double) values[i] / weights[i]);\n",
        "  }\n",
        "  sort(unit_cost.begin(), unit_cost.end(), comp_items);\n",
        "  int index;\n",
        "  for (int i = 0; i < n; i++) {\n",
        "    index = unit_cost[i].first;\n",
        "    if (capacity == 0)\n",
        "      return value;\n",
        "    int a = min(weights[index], capacity);\n",
        "    value += (double) a * values[index] / weights[index];\n",
        "    weights[index] -= a;\n",
        "    capacity -= a;\n",
        "  }\n",
        "  return value;\n",
        "}\n",
        "\n",
        "int main() {\n",
        "  int n;\n",
        "  int capacity;\n",
        "  cin >> n >> capacity;\n",
        "  vector<int> values(n);\n",
        "  vector<int> weights(n);\n",
        "  for (int i = 0; i < n; i++) {\n",
        "    cin >> values[i] >> weights[i];\n",
        "  }\n",
        "\n",
        "  double optimal_value = get_optimal_value(capacity, weights, values);\n",
        "\n",
        "  cout.precision(10);\n",
        "  cout << optimal_value << endl;\n",
        "  return 0;\n",
        "}"
      ],
      "execution_count": 2,
      "outputs": [
        {
          "output_type": "stream",
          "text": [
            "Writing second.cpp\n"
          ],
          "name": "stdout"
        }
      ]
    },
    {
      "cell_type": "markdown",
      "metadata": {
        "id": "5MNnYeh0v7n8"
      },
      "source": [
        "## 3. Car Fueling"
      ]
    },
    {
      "cell_type": "code",
      "metadata": {
        "colab": {
          "base_uri": "https://localhost:8080/"
        },
        "id": "KyIYZUHVv_7S",
        "outputId": "9b3b209a-a27e-4337-fb38-0d2d0b010337"
      },
      "source": [
        "%%writefile third.cpp\n",
        "#include <bits/stdc++.h>\n",
        "\n",
        "using namespace std;\n",
        "\n",
        "int compute_min_refills(int dist, int tank, vector<int> & stops) {\n",
        "    // write your code here\n",
        "    stops.push_back(dist);\n",
        "    int n = stops.size();\n",
        "    int num_refills = 0;\n",
        "    int current_refill = 0;\n",
        "    while (current_refill < n) {\n",
        "        int last_refill = current_refill;\n",
        "        while (current_refill < n && stops[current_refill + 1] - stops[last_refill] <= tank) {\n",
        "            current_refill++;\n",
        "        }\n",
        "        if (current_refill == last_refill) {\n",
        "            return -1;\n",
        "        }\n",
        "        if (current_refill < n) {\n",
        "            num_refills++;\n",
        "        }\n",
        "    }\n",
        "    return num_refills;\n",
        "}\n",
        "\n",
        "\n",
        "int main() {\n",
        "    int d = 0;\n",
        "    cin >> d;\n",
        "    int m = 0;\n",
        "    cin >> m;\n",
        "    int n = 0;\n",
        "    cin >> n;\n",
        "\n",
        "    vector<int> stops(n + 1);\n",
        "    stops[0] = 0;\n",
        "    for (int i = 1; i <= n; ++i)\n",
        "        cin >> stops.at(i);\n",
        "\n",
        "    cout << compute_min_refills(d, m, stops) << \"\\n\";\n",
        "\n",
        "    return 0;\n",
        "}"
      ],
      "execution_count": 3,
      "outputs": [
        {
          "output_type": "stream",
          "text": [
            "Writing third.cpp\n"
          ],
          "name": "stdout"
        }
      ]
    },
    {
      "cell_type": "markdown",
      "metadata": {
        "id": "210eLBMzwHXS"
      },
      "source": [
        "## 4. Maximum Advertisement Revenue"
      ]
    },
    {
      "cell_type": "code",
      "metadata": {
        "colab": {
          "base_uri": "https://localhost:8080/"
        },
        "id": "pJqpNKkbwM6a",
        "outputId": "be8cc6c7-8e24-4d9b-fbae-68f69cc182a0"
      },
      "source": [
        "%%writefile fourth.cpp\n",
        "#include <bits/stdc++.h>\n",
        "\n",
        "using namespace std;\n",
        "\n",
        "long long max_dot_product(vector<int> a, vector<int> b) {\n",
        "  // write your code here\n",
        "  long long result = 0;\n",
        "  for (int i = 0; i < a.size(); i++) {\n",
        "    result += ((long long) a[i]) * b[i];\n",
        "  }\n",
        "  return result;\n",
        "}\n",
        "\n",
        "int main() {\n",
        "  int n;\n",
        "  cin >> n;\n",
        "  vector<int> a(n), b(n);\n",
        "  for (int i = 0; i < n; i++) {\n",
        "    cin >> a[i];\n",
        "  }\n",
        "  for (int i = 0; i < n; i++) {\n",
        "    cin >> b[i];\n",
        "  }\n",
        "  sort(a.begin(), a.end());\n",
        "  sort(b.begin(), b.end());\n",
        "  cout << max_dot_product(a, b) << \"\\n\";\n",
        "  return 0;\n",
        "}"
      ],
      "execution_count": 4,
      "outputs": [
        {
          "output_type": "stream",
          "text": [
            "Writing fourth.cpp\n"
          ],
          "name": "stdout"
        }
      ]
    },
    {
      "cell_type": "markdown",
      "metadata": {
        "id": "iTM7SdAmwWda"
      },
      "source": [
        "## 5. Collecting Signatures"
      ]
    },
    {
      "cell_type": "code",
      "metadata": {
        "colab": {
          "base_uri": "https://localhost:8080/"
        },
        "id": "Va06_heowbyr",
        "outputId": "3f95b771-b65d-4a9d-a002-babb8aafdf0c"
      },
      "source": [
        "%%writefile fifth.cpp\n",
        "#include <bits/stdc++.h>\n",
        "\n",
        "using namespace std;\n",
        "\n",
        "int n;\n",
        "bool chosen[100];\n",
        "\n",
        "struct Segment {\n",
        "  int start, end;\n",
        "};\n",
        "\n",
        "bool comp_segments(Segment a, Segment b) {\n",
        "  return a.start <= b.start && a.end <= b.end;\n",
        "}\n",
        "\n",
        "int check_point(vector<Segment> &segments, int point) {\n",
        "  int res = 0;\n",
        "  for (int i = 0; i < n; i++) {\n",
        "    if (!chosen[i] && (point >= segments[i].start && point <= segments[i].end)) {\n",
        "      res++;\n",
        "    }\n",
        "  }\n",
        "  return res;\n",
        "}\n",
        "\n",
        "void choose_segments(vector<Segment> &segments, int point) {\n",
        "  for (int i = 0; i < n; i++) {\n",
        "    if (!chosen[i] && (point >= segments[i].start && point <= segments[i].end)) {\n",
        "      chosen[i] = true;\n",
        "    }\n",
        "  }\n",
        "}\n",
        "\n",
        "vector<int> optimal_points(vector<Segment> &segments) {\n",
        "  vector<int> points;\n",
        "  //write your code here\n",
        "  int c = 0;\n",
        "  for (int i = 0; i < n; i++) {\n",
        "    if (!chosen[i]) {\n",
        "      int count = 1;\n",
        "      int point = segments[i].start;\n",
        "      for (int j = segments[i].start; j <= segments[i].end; j++) {\n",
        "        int v = check_point(segments, j);\n",
        "        if (v > count) {\n",
        "          count = v;\n",
        "          point = j;\n",
        "        }\n",
        "      }\n",
        "      c += count;\n",
        "      choose_segments(segments, point);\n",
        "      points.push_back(point);\n",
        "    }\n",
        "    if (c == n)\n",
        "      break;\n",
        "  }\n",
        "  return points;\n",
        "}\n",
        "\n",
        "int main() {\n",
        "  cin >> n;\n",
        "  vector<Segment> segments(n);\n",
        "  for (int i = 0; i < n; ++i) {\n",
        "    cin >> segments[i].start >> segments[i].end;\n",
        "  }\n",
        "  sort(segments.begin(), segments.end(), comp_segments);\n",
        "  for (int i = 0; i < n; i++) {\n",
        "    chosen[i] = false;\n",
        "  }\n",
        "  vector<int> points = optimal_points(segments);\n",
        "  cout << points.size() << \"\\n\";\n",
        "  for (int i = 0; i < points.size(); ++i) {\n",
        "    cout << points[i] << \" \";\n",
        "  }\n",
        "  cout << \"\\n\";\n",
        "  return 0;\n",
        "}"
      ],
      "execution_count": 5,
      "outputs": [
        {
          "output_type": "stream",
          "text": [
            "Writing fifth.cpp\n"
          ],
          "name": "stdout"
        }
      ]
    },
    {
      "cell_type": "markdown",
      "metadata": {
        "id": "0JRtcKuMwjjj"
      },
      "source": [
        "## 6. Maximum Number of Prizes"
      ]
    },
    {
      "cell_type": "code",
      "metadata": {
        "colab": {
          "base_uri": "https://localhost:8080/"
        },
        "id": "W6weGp9fwpob",
        "outputId": "993986bc-93e6-4546-d212-cb1946c95b90"
      },
      "source": [
        "%%writefile sixth.cpp\n",
        "#include <bits/stdc++.h>\n",
        "\n",
        "using namespace std;\n",
        "\n",
        "vector<int> optimal_summands(int n) {\n",
        "  vector<int> summands;\n",
        "  if (n <= 2) {\n",
        "    summands.push_back(n);\n",
        "    return summands;\n",
        "  }\n",
        "  //write your code here\n",
        "  int summand = 1;\n",
        "  while (n > 0) {\n",
        "    summands.push_back(summand);\n",
        "    n -= summand;\n",
        "    summand++;\n",
        "    if ((n - summand) <= summand) {\n",
        "      summands.push_back(n);\n",
        "      break;\n",
        "    }\n",
        "  }\n",
        "  return summands;\n",
        "}\n",
        "\n",
        "int main() {\n",
        "  int n;\n",
        "  cin >> n;\n",
        "  vector<int> summands = optimal_summands(n);\n",
        "  cout << summands.size() << '\\n';\n",
        "  for (int i = 0; i < summands.size(); ++i) {\n",
        "    cout << summands[i] << ' ';\n",
        "  }\n",
        "  cout << \"\\n\";\n",
        "  return 0;\n",
        "}"
      ],
      "execution_count": 6,
      "outputs": [
        {
          "output_type": "stream",
          "text": [
            "Writing sixth.cpp\n"
          ],
          "name": "stdout"
        }
      ]
    },
    {
      "cell_type": "markdown",
      "metadata": {
        "id": "k147NpxIwvMS"
      },
      "source": [
        "## 7. Maximum Salary"
      ]
    },
    {
      "cell_type": "code",
      "metadata": {
        "colab": {
          "base_uri": "https://localhost:8080/"
        },
        "id": "7ZEOeNUMw0Ft",
        "outputId": "f53f955a-d903-4d3d-e93c-5dfb8ef09bdd"
      },
      "source": [
        "%%writefile seventh.cpp\n",
        "#include <bits/stdc++.h>\n",
        "\n",
        "using namespace std;\n",
        "\n",
        "bool comp(string a, string b) {\n",
        "    string ab = a.append(b);\n",
        "    string ba = b.append(a);\n",
        "    return ab.compare(ba) > 0 ? true : false;\n",
        "}\n",
        "\n",
        "void largest(vector<string> numbers) {\n",
        "    sort(numbers.begin(), numbers.end(), comp);\n",
        "    for (auto n: numbers) {\n",
        "        cout << n;\n",
        "    }\n",
        "    cout << \"\\n\";\n",
        "}\n",
        "\n",
        "int main() {\n",
        "    int n;\n",
        "    cin >> n;\n",
        "    vector<string> numbers(n);\n",
        "    for (int i = 0; i < n; i++) {\n",
        "        cin >> numbers[i];\n",
        "    }\n",
        "    largest(numbers);\n",
        "    return 0;\n",
        "}"
      ],
      "execution_count": 7,
      "outputs": [
        {
          "output_type": "stream",
          "text": [
            "Writing seventh.cpp\n"
          ],
          "name": "stdout"
        }
      ]
    },
    {
      "cell_type": "markdown",
      "metadata": {
        "id": "RzRb7faovWrU"
      },
      "source": [
        "## Veredict"
      ]
    },
    {
      "cell_type": "markdown",
      "metadata": {
        "id": "vJcx_hhovYLb"
      },
      "source": [
        "![veredict3.PNG](data:image/png;base64,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)"
      ]
    }
  ]
}