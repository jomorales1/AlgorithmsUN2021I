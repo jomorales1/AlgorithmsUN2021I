{
  "nbformat": 4,
  "nbformat_minor": 0,
  "metadata": {
    "colab": {
      "name": "AlgorithmicToolboxWeek2.ipynb",
      "provenance": [],
      "collapsed_sections": []
    },
    "kernelspec": {
      "name": "python3",
      "display_name": "Python 3"
    },
    "language_info": {
      "name": "python"
    }
  },
  "cells": [
    {
      "cell_type": "markdown",
      "metadata": {
        "id": "FibU6S7vuc_m"
      },
      "source": [
        "# Algorithmic Toolbox - Week 2 - Algorithmic Warm Up"
      ]
    },
    {
      "cell_type": "markdown",
      "metadata": {
        "id": "_k2k_Fofu7z1"
      },
      "source": [
        "## 1. Fibonacci Number"
      ]
    },
    {
      "cell_type": "code",
      "metadata": {
        "colab": {
          "base_uri": "https://localhost:8080/"
        },
        "id": "7NtSm5jDo9Jb",
        "outputId": "4232620f-b93a-4357-936f-00157078b106"
      },
      "source": [
        "%%writefile first.cpp\n",
        "#include <bits/stdc++.h>\n",
        "\n",
        "using namespace std;\n",
        "\n",
        "long long f[46];\n",
        "\n",
        "int fibonacci_naive(int n) {\n",
        "    if (n <= 1) {\n",
        "        return n;\n",
        "    }\n",
        "    return fibonacci_naive(n - 1) + fibonacci_naive(n - 2);\n",
        "}\n",
        "\n",
        "long long fibonacci_fast(int n) {\n",
        "    for (int i = 2; i <= n; i++) {\n",
        "        f[i] = f[i - 1] + f[i - 2];\n",
        "    }\n",
        "    return f[n];\n",
        "}\n",
        "\n",
        "int main() {\n",
        "    f[0] = 0; f[1] = 1;\n",
        "    int n = 0; cin >> n;\n",
        "    cout << fibonacci_fast(n) << '\\n';\n",
        "    return 0;\n",
        "}"
      ],
      "execution_count": 1,
      "outputs": [
        {
          "output_type": "stream",
          "text": [
            "Writing first.cpp\n"
          ],
          "name": "stdout"
        }
      ]
    },
    {
      "cell_type": "code",
      "metadata": {
        "colab": {
          "base_uri": "https://localhost:8080/"
        },
        "id": "rS7Lm5_YwSp3",
        "outputId": "957e0c11-d3cc-4856-c44d-9c8d2d100561"
      },
      "source": [
        "!g++ first.cpp -o first\n",
        "!./first"
      ],
      "execution_count": 2,
      "outputs": [
        {
          "output_type": "stream",
          "text": [
            "10\n",
            "55\n"
          ],
          "name": "stdout"
        }
      ]
    },
    {
      "cell_type": "markdown",
      "metadata": {
        "id": "c-3UG72UwIgf"
      },
      "source": [
        "## 2. Last Digit of a Large Fibonacci Number"
      ]
    },
    {
      "cell_type": "code",
      "metadata": {
        "colab": {
          "base_uri": "https://localhost:8080/"
        },
        "id": "9aVm2MnRwRze",
        "outputId": "b4dc7412-76e5-4df4-e87e-e5a085e77fd6"
      },
      "source": [
        "%%writefile second.cpp\n",
        "#include <bits/stdc++.h>\n",
        "\n",
        "using namespace std;\n",
        "\n",
        "const int size = (int) 1e7 + 1;\n",
        "int f[size];\n",
        "\n",
        "int get_fibonacci_last_digit_fast(int n) {\n",
        "    f[0] = 0; f[1] = 1;\n",
        "    for (int i = 2; i <= n; i++) {\n",
        "        f[i] = (f[i - 1] + f[i - 2]) % 10;\n",
        "    }\n",
        "    return f[n];\n",
        "}\n",
        "\n",
        "int get_fibonacci_last_digit_naive(int n) {\n",
        "    if (n <= 1)\n",
        "        return n;\n",
        "    int previous = 0;\n",
        "    int current  = 1;\n",
        "    for (int i = 0; i < n - 1; i++) {\n",
        "        int tmp_previous = previous;\n",
        "        previous = current;\n",
        "        current = tmp_previous + current;\n",
        "    }\n",
        "    return current % 10;\n",
        "}\n",
        "\n",
        "int main() {\n",
        "    int n; cin >> n;\n",
        "    int c = get_fibonacci_last_digit_fast(n);\n",
        "    cout << c << '\\n';\n",
        "}"
      ],
      "execution_count": 3,
      "outputs": [
        {
          "output_type": "stream",
          "text": [
            "Writing second.cpp\n"
          ],
          "name": "stdout"
        }
      ]
    },
    {
      "cell_type": "code",
      "metadata": {
        "colab": {
          "base_uri": "https://localhost:8080/"
        },
        "id": "P0frNrQXwTM_",
        "outputId": "66536788-84dd-4782-86ca-d46fe6dc1d7d"
      },
      "source": [
        "!g++ second.cpp -o second\n",
        "!./second"
      ],
      "execution_count": 4,
      "outputs": [
        {
          "output_type": "stream",
          "text": [
            "331\n",
            "9\n"
          ],
          "name": "stdout"
        }
      ]
    },
    {
      "cell_type": "markdown",
      "metadata": {
        "id": "HI5w9OqgwYFK"
      },
      "source": [
        "## 3. Greatest Common Divisor"
      ]
    },
    {
      "cell_type": "code",
      "metadata": {
        "colab": {
          "base_uri": "https://localhost:8080/"
        },
        "id": "SPDUmVxswckF",
        "outputId": "534a8c77-26c5-46d1-b915-7d568e1098f0"
      },
      "source": [
        "%%writefile third.cpp\n",
        "#include <bits/stdc++.h>\n",
        "\n",
        "using namespace std;\n",
        "\n",
        "int gcd_fast(int a, int b) {\n",
        "    if (b > a)\n",
        "        swap(a, b);\n",
        "    if (b == 0)\n",
        "        return a;\n",
        "    return gcd_fast(b, a % b);\n",
        "}\n",
        "\n",
        "int gcd_naive(int a, int b) {\n",
        "    int current_gcd = 1;\n",
        "    for (int d = 2; d <= a && d <= b; d++) {\n",
        "        if (a % d == 0 && b % d == 0) {\n",
        "            if (d > current_gcd) {\n",
        "                current_gcd = d;\n",
        "            }\n",
        "        }\n",
        "    }\n",
        "    return current_gcd;\n",
        "}\n",
        "\n",
        "int main() {\n",
        "    int a, b;\n",
        "    cin >> a >> b;\n",
        "    cout << gcd_fast(a, b) << \"\\n\";\n",
        "    return 0;\n",
        "}"
      ],
      "execution_count": 5,
      "outputs": [
        {
          "output_type": "stream",
          "text": [
            "Writing third.cpp\n"
          ],
          "name": "stdout"
        }
      ]
    },
    {
      "cell_type": "code",
      "metadata": {
        "colab": {
          "base_uri": "https://localhost:8080/"
        },
        "id": "JC9IAYUvwc3u",
        "outputId": "71879f67-c0c8-47ac-eca3-febe1b58ff0b"
      },
      "source": [
        "!g++ third.cpp -o third\n",
        "!./third"
      ],
      "execution_count": 6,
      "outputs": [
        {
          "output_type": "stream",
          "text": [
            "28851538 1183019\n",
            "17657\n"
          ],
          "name": "stdout"
        }
      ]
    },
    {
      "cell_type": "markdown",
      "metadata": {
        "id": "BJsi5WRjwe9Y"
      },
      "source": [
        "## 4. Least Common Multiple"
      ]
    },
    {
      "cell_type": "code",
      "metadata": {
        "colab": {
          "base_uri": "https://localhost:8080/"
        },
        "id": "_-MdINe_whwT",
        "outputId": "b6349134-7aae-49da-eb34-189949a69a70"
      },
      "source": [
        "%%writefile fourth.cpp\n",
        "#include <bits/stdc++.h>\n",
        "\n",
        "using namespace std;\n",
        "\n",
        "int gcd_fast(int a, int b) {\n",
        "    if (b > a)\n",
        "        swap(a, b);\n",
        "    if (b == 0)\n",
        "        return a;\n",
        "    return gcd_fast(b, a % b);\n",
        "}\n",
        "\n",
        "long long lcm_naive(int a, int b) {\n",
        "    for (long l = 1; l <= (long long) a * b; ++l)\n",
        "        if (l % a == 0 && l % b == 0)\n",
        "            return l;\n",
        "    return (long long) a * b;\n",
        "}\n",
        "\n",
        "long long lcm_fast(int a, int b) {\n",
        "    return (long long) a * b / gcd_fast(a, b);\n",
        "}\n",
        "\n",
        "int main() {\n",
        "    int a, b;\n",
        "    cin >> a >> b;\n",
        "    cout << lcm_fast(a, b) << \"\\n\";\n",
        "    return 0;\n",
        "}"
      ],
      "execution_count": 7,
      "outputs": [
        {
          "output_type": "stream",
          "text": [
            "Writing fourth.cpp\n"
          ],
          "name": "stdout"
        }
      ]
    },
    {
      "cell_type": "code",
      "metadata": {
        "colab": {
          "base_uri": "https://localhost:8080/"
        },
        "id": "6dBKcBh0wiKR",
        "outputId": "fdb183e0-332d-45d0-abde-8a731ce8ca88"
      },
      "source": [
        "!g++ fourth.cpp -o fourth\n",
        "!./fourth"
      ],
      "execution_count": 8,
      "outputs": [
        {
          "output_type": "stream",
          "text": [
            "761457 614573\n",
            "467970912861\n"
          ],
          "name": "stdout"
        }
      ]
    },
    {
      "cell_type": "markdown",
      "metadata": {
        "id": "JDdcC2rRwjAO"
      },
      "source": [
        "## 5. Fibonacci Number Again"
      ]
    },
    {
      "cell_type": "code",
      "metadata": {
        "colab": {
          "base_uri": "https://localhost:8080/"
        },
        "id": "0IiIcAzLwns7",
        "outputId": "7e229705-0a3d-4cc6-e3a5-90c8fc3a4371"
      },
      "source": [
        "%%writefile fifth.cpp\n",
        "#include <bits/stdc++.h>\n",
        "\n",
        "using namespace std;\n",
        "\n",
        "int fibonacci(long long n, long long m) {\n",
        "    int f[n + 1];\n",
        "    f[0] = 0;\n",
        "    f[1] = 1;\n",
        "    for (int i = 2; i <= n; i++) {\n",
        "        f[i] = (f[i - 1] + f[i - 2]) % m;\n",
        "    }\n",
        "    return f[n];\n",
        "}\n",
        "\n",
        "long long get_fibonacci_huge_fast(long long n, long long m) {\n",
        "    if (n <= 1)\n",
        "        return n;\n",
        "    int p = 0;\n",
        "    vector<int> period;\n",
        "    period.push_back(0);\n",
        "    period.push_back(1);\n",
        "    for (int i = 2; i < m * m; i++) {\n",
        "        if (fibonacci(i, m) == 0 && fibonacci(i + 1, m) == 1) {\n",
        "            p = i;\n",
        "            break;\n",
        "        }\n",
        "        period.push_back(fibonacci(i, m));\n",
        "    }\n",
        "    long long pos = n % p;\n",
        "    return period[pos];\n",
        "}\n",
        "\n",
        "long long get_fibonacci_huge_naive(long long n, long long m) {\n",
        "    if (n <= 1)\n",
        "        return n;\n",
        "    long long previous = 0;\n",
        "    long long current  = 1;\n",
        "    for (long long i = 0; i < n - 1; ++i) {\n",
        "        long long tmp_previous = previous;\n",
        "        previous = current;\n",
        "        current = tmp_previous + current;\n",
        "    }\n",
        "    return current % m;\n",
        "}\n",
        "\n",
        "int main() {\n",
        "    long long n, m;\n",
        "    cin >> n >> m;\n",
        "    cout << get_fibonacci_huge_fast(n, m) << '\\n';\n",
        "    return 0;\n",
        "}"
      ],
      "execution_count": 9,
      "outputs": [
        {
          "output_type": "stream",
          "text": [
            "Writing fifth.cpp\n"
          ],
          "name": "stdout"
        }
      ]
    },
    {
      "cell_type": "code",
      "metadata": {
        "colab": {
          "base_uri": "https://localhost:8080/"
        },
        "id": "05GXH4cewoEl",
        "outputId": "bf323543-88de-42dc-a732-42ac658a7f18"
      },
      "source": [
        "!g++ fifth.cpp -o fifth\n",
        "!./fifth"
      ],
      "execution_count": 10,
      "outputs": [
        {
          "output_type": "stream",
          "text": [
            "2816213588 239\n",
            "151\n"
          ],
          "name": "stdout"
        }
      ]
    },
    {
      "cell_type": "markdown",
      "metadata": {
        "id": "Px7dVY0Kwogv"
      },
      "source": [
        "## 6. Last Digit of the Sum of Fibonacci Numbers"
      ]
    },
    {
      "cell_type": "code",
      "metadata": {
        "colab": {
          "base_uri": "https://localhost:8080/"
        },
        "id": "TQ9lFhr3wwWZ",
        "outputId": "214fabf6-f2d2-4d58-e009-7b5891da4832"
      },
      "source": [
        "%%writefile sixth.cpp\n",
        "#include <bits/stdc++.h>\n",
        "\n",
        "using namespace std;\n",
        "\n",
        "int fibonacci(long long n, long long m) {\n",
        "    int f[n + 1];\n",
        "    f[0] = 0;\n",
        "    f[1] = 1;\n",
        "    for (int i = 2; i <= n; i++) {\n",
        "        f[i] = (f[i - 1] + f[i - 2]) % m;\n",
        "    }\n",
        "    return f[n];\n",
        "}\n",
        "\n",
        "long long get_fibonacci_huge_fast(long long n, long long m) {\n",
        "    if (n <= 1)\n",
        "        return n;\n",
        "    int p = 0;\n",
        "    vector<int> period;\n",
        "    period.push_back(0);\n",
        "    period.push_back(1);\n",
        "    for (int i = 2; i < m * m; i++) {\n",
        "        if (fibonacci(i, m) == 0 && fibonacci(i + 1, m) == 1) {\n",
        "            p = i;\n",
        "            break;\n",
        "        }\n",
        "        period.push_back(fibonacci(i, m));\n",
        "    }\n",
        "    long long pos = n % p;\n",
        "    return period[pos];\n",
        "}\n",
        "\n",
        "int fibonacci_sum_fast(long long n) {\n",
        "    if (n <= 1)\n",
        "        return n;\n",
        "    return (get_fibonacci_huge_fast(n + 2, 10) - 1 + 10) % 10;\n",
        "}\n",
        "\n",
        "int fibonacci_sum_naive(long long n) {\n",
        "    if (n <= 1)\n",
        "        return n;\n",
        "    long long previous = 0;\n",
        "    long long current = 1;\n",
        "    long long sum = 1;\n",
        "    for (long long i = 0; i < n - 1; ++i) {\n",
        "        long long tmp_previous = previous;\n",
        "        previous = current;\n",
        "        current = tmp_previous + current;\n",
        "        sum += current;\n",
        "    }\n",
        "    return sum % 10;\n",
        "}\n",
        "\n",
        "int main() {\n",
        "    long long n = 0;\n",
        "    cin >> n;\n",
        "    cout << fibonacci_sum_fast(n) << \"\\n\";\n",
        "    return 0;\n",
        "}"
      ],
      "execution_count": 11,
      "outputs": [
        {
          "output_type": "stream",
          "text": [
            "Writing sixth.cpp\n"
          ],
          "name": "stdout"
        }
      ]
    },
    {
      "cell_type": "code",
      "metadata": {
        "colab": {
          "base_uri": "https://localhost:8080/"
        },
        "id": "tKwMUYNBwwiw",
        "outputId": "aaa0e893-ebc7-4dcc-d07b-1ba5246f6bdf"
      },
      "source": [
        "!g++ sixth.cpp -o sixth\n",
        "!./sixth"
      ],
      "execution_count": 12,
      "outputs": [
        {
          "output_type": "stream",
          "text": [
            "100\n",
            "5\n"
          ],
          "name": "stdout"
        }
      ]
    },
    {
      "cell_type": "markdown",
      "metadata": {
        "id": "-lW1IkfYw0jO"
      },
      "source": [
        "## 7. Last Digit of the Sum of Fibonacci Numbers Again"
      ]
    },
    {
      "cell_type": "code",
      "metadata": {
        "colab": {
          "base_uri": "https://localhost:8080/"
        },
        "id": "8fNs7Qadw12P",
        "outputId": "09cb01b8-3a82-42ed-c330-9c101f4f0c9b"
      },
      "source": [
        "%%writefile seventh.cpp\n",
        "#include <bits/stdc++.h>\n",
        "\n",
        "using namespace std;\n",
        "\n",
        "int fibonacci(long long n, long long m) {\n",
        "    int f[n + 1];\n",
        "    f[0] = 0;\n",
        "    f[1] = 1;\n",
        "    for (int i = 2; i <= n; i++) {\n",
        "        f[i] = (f[i - 1] + f[i - 2]) % m;\n",
        "    }\n",
        "    return f[n];\n",
        "}\n",
        "\n",
        "long long get_fibonacci_huge_fast(long long n, long long m) {\n",
        "    if (n <= 1)\n",
        "        return n;\n",
        "    int p = 0;\n",
        "    vector<int> period;\n",
        "    period.push_back(0);\n",
        "    period.push_back(1);\n",
        "    for (int i = 2; i < m * m; i++) {\n",
        "        if (fibonacci(i, m) == 0 && fibonacci(i + 1, m) == 1) {\n",
        "            p = i;\n",
        "            break;\n",
        "        }\n",
        "        period.push_back(fibonacci(i, m));\n",
        "    }\n",
        "    long long pos = n % p;\n",
        "    return period[pos];\n",
        "}\n",
        "\n",
        "int fibonacci_sum_fast(long long n) {\n",
        "    if (n <= 0)\n",
        "        return 0;\n",
        "    if (n <= 1)\n",
        "        return n;\n",
        "    return (get_fibonacci_huge_fast(n + 2, 10) - 1 + 10) % 10;\n",
        "}\n",
        "\n",
        "long long get_fibonacci_partial_sum_fast(long long from, long long to) {\n",
        "    return (fibonacci_sum_fast(to) - fibonacci_sum_fast(from - 1) + 10) % 10;\n",
        "}\n",
        "\n",
        "long long get_fibonacci_partial_sum_naive(long long from, long long to) {\n",
        "    long long sum = 0;\n",
        "    long long current = 0;\n",
        "    long long next  = 1;\n",
        "    for (long long i = 0; i <= to; ++i) {\n",
        "        if (i >= from) {\n",
        "            sum += current;\n",
        "        }\n",
        "        long long new_current = next;\n",
        "        next = next + current;\n",
        "        current = new_current;\n",
        "    }\n",
        "    return sum % 10;\n",
        "}\n",
        "\n",
        "int main() {\n",
        "    long long from, to;\n",
        "    cin >> from >> to;\n",
        "    cout << get_fibonacci_partial_sum_fast(from, to) << '\\n';\n",
        "    return 0;\n",
        "}"
      ],
      "execution_count": 13,
      "outputs": [
        {
          "output_type": "stream",
          "text": [
            "Writing seventh.cpp\n"
          ],
          "name": "stdout"
        }
      ]
    },
    {
      "cell_type": "code",
      "metadata": {
        "colab": {
          "base_uri": "https://localhost:8080/"
        },
        "id": "HBXz81www2F4",
        "outputId": "69e0b7f0-98bf-4e36-9a28-3852c607939f"
      },
      "source": [
        "!g++ seventh.cpp -o seventh\n",
        "!./seventh"
      ],
      "execution_count": 14,
      "outputs": [
        {
          "output_type": "stream",
          "text": [
            "10 200\n",
            "2\n"
          ],
          "name": "stdout"
        }
      ]
    },
    {
      "cell_type": "markdown",
      "metadata": {
        "id": "yHmSQKpMw5pq"
      },
      "source": [
        "## 8. Last Digit of the Sum of Squares of Fibonacci Numbers"
      ]
    },
    {
      "cell_type": "code",
      "metadata": {
        "colab": {
          "base_uri": "https://localhost:8080/"
        },
        "id": "J4VR6Xcqw_VH",
        "outputId": "fd16a73b-5bd5-4a3c-860e-db89997b92ee"
      },
      "source": [
        "%%writefile eighth.cpp\n",
        "#include <bits/stdc++.h>\n",
        "\n",
        "using namespace std;\n",
        "\n",
        "int fibonacci(long long n, long long m) {\n",
        "    int f[n + 1];\n",
        "    f[0] = 0;\n",
        "    f[1] = 1;\n",
        "    for (int i = 2; i <= n; i++) {\n",
        "        f[i] = (f[i - 1] + f[i - 2]) % m;\n",
        "    }\n",
        "    return f[n];\n",
        "}\n",
        "\n",
        "long long get_fibonacci_huge_fast(long long n, long long m) {\n",
        "    if (n <= 1)\n",
        "        return n;\n",
        "    int p = 0;\n",
        "    vector<int> period;\n",
        "    period.push_back(0);\n",
        "    period.push_back(1);\n",
        "    for (int i = 2; i < m * m; i++) {\n",
        "        if (fibonacci(i, m) == 0 && fibonacci(i + 1, m) == 1) {\n",
        "            p = i;\n",
        "            break;\n",
        "        }\n",
        "        period.push_back(fibonacci(i, m));\n",
        "    }\n",
        "    long long pos = n % p;\n",
        "    return period[pos];\n",
        "}\n",
        "\n",
        "int fibonacci_sum_squares_fast(long long n) {\n",
        "    return (get_fibonacci_huge_fast(n, 10) * get_fibonacci_huge_fast(n + 1, 10)) % 10;\n",
        "}\n",
        "\n",
        "int fibonacci_sum_squares_naive(long long n) {\n",
        "    if (n <= 1)\n",
        "        return n;\n",
        "    long long previous = 0;\n",
        "    long long current = 1;\n",
        "    long long sum = 1;\n",
        "    for (long long i = 0; i < n - 1; ++i) {\n",
        "        long long tmp_previous = previous;\n",
        "        previous = current;\n",
        "        current = tmp_previous + current;\n",
        "        sum += current * current;\n",
        "    }\n",
        "    return sum % 10;\n",
        "}\n",
        "\n",
        "int main() {\n",
        "    long long n = 0;\n",
        "    cin >> n;\n",
        "    cout << fibonacci_sum_squares_fast(n) << \"\\n\";\n",
        "    return 0;\n",
        "}"
      ],
      "execution_count": 15,
      "outputs": [
        {
          "output_type": "stream",
          "text": [
            "Writing eighth.cpp\n"
          ],
          "name": "stdout"
        }
      ]
    },
    {
      "cell_type": "code",
      "metadata": {
        "colab": {
          "base_uri": "https://localhost:8080/"
        },
        "id": "8MYl_7N9w_z_",
        "outputId": "ab8797f8-b50f-431d-8859-6d89f9846526"
      },
      "source": [
        "!g++ eighth.cpp -o eighth\n",
        "!./eighth"
      ],
      "execution_count": 16,
      "outputs": [
        {
          "output_type": "stream",
          "text": [
            "1234567890\n",
            "0\n"
          ],
          "name": "stdout"
        }
      ]
    },
    {
      "cell_type": "markdown",
      "metadata": {
        "id": "VWxcCGgn1w3m"
      },
      "source": [
        "## Veredict\n",
        "![week2.PNG](data:image/png;base64,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)"
      ]
    }
  ]
}